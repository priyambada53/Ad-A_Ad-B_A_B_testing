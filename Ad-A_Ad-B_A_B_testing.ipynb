{
 "cells": [
  {
   "cell_type": "markdown",
   "id": "c82055d8",
   "metadata": {},
   "source": [
    "# Problem\n",
    "\n",
    "An advertising company has developed a new ad to have users engage with their questionnaire. The company has shown the new ad to some users and a dummy ad to others and wants their data analyst team to interpret the results. Does the new ad generate more responses to their questionnaire? Is it statistically significant? Is the company justified in using the new ad?\n",
    "\n",
    "Dataset is found on kaggle from an advertising company. https://www.kaggle.com/osuolaleemmanuel/ad-ab-testing\n"
   ]
  },
  {
   "cell_type": "markdown",
   "id": "66f2a8f4",
   "metadata": {},
   "source": [
    "# Data preprocessing"
   ]
  },
  {
   "cell_type": "markdown",
   "id": "3874be72",
   "metadata": {},
   "source": [
    "**Import the necessary libraries**"
   ]
  },
  {
   "cell_type": "code",
   "execution_count": 1,
   "id": "92c6547a",
   "metadata": {},
   "outputs": [],
   "source": [
    "import numpy as np\n",
    "import pandas as pd\n",
    "import matplotlib.pyplot as plt\n",
    "from scipy.stats import norm"
   ]
  },
  {
   "cell_type": "markdown",
   "id": "ea08c342",
   "metadata": {},
   "source": [
    "# Read the dataset"
   ]
  },
  {
   "cell_type": "code",
   "execution_count": 2,
   "id": "4e1b31dd",
   "metadata": {},
   "outputs": [],
   "source": [
    "df=pd.read_csv('AB_test_AD.csv')"
   ]
  },
  {
   "cell_type": "markdown",
   "id": "ff91ecc4",
   "metadata": {},
   "source": [
    "# Explore the data"
   ]
  },
  {
   "cell_type": "code",
   "execution_count": 3,
   "id": "4b6ea217",
   "metadata": {},
   "outputs": [
    {
     "data": {
      "text/html": [
       "<div>\n",
       "<style scoped>\n",
       "    .dataframe tbody tr th:only-of-type {\n",
       "        vertical-align: middle;\n",
       "    }\n",
       "\n",
       "    .dataframe tbody tr th {\n",
       "        vertical-align: top;\n",
       "    }\n",
       "\n",
       "    .dataframe thead th {\n",
       "        text-align: right;\n",
       "    }\n",
       "</style>\n",
       "<table border=\"1\" class=\"dataframe\">\n",
       "  <thead>\n",
       "    <tr style=\"text-align: right;\">\n",
       "      <th></th>\n",
       "      <th>auction_id</th>\n",
       "      <th>experiment</th>\n",
       "      <th>date</th>\n",
       "      <th>hour</th>\n",
       "      <th>device_make</th>\n",
       "      <th>platform_os</th>\n",
       "      <th>browser</th>\n",
       "      <th>yes</th>\n",
       "      <th>no</th>\n",
       "    </tr>\n",
       "  </thead>\n",
       "  <tbody>\n",
       "    <tr>\n",
       "      <th>0</th>\n",
       "      <td>0008ef63-77a7-448b-bd1e-075f42c55e39</td>\n",
       "      <td>exposed</td>\n",
       "      <td>2020-07-10</td>\n",
       "      <td>8</td>\n",
       "      <td>Generic Smartphone</td>\n",
       "      <td>6</td>\n",
       "      <td>Chrome Mobile</td>\n",
       "      <td>0</td>\n",
       "      <td>0</td>\n",
       "    </tr>\n",
       "    <tr>\n",
       "      <th>1</th>\n",
       "      <td>000eabc5-17ce-4137-8efe-44734d914446</td>\n",
       "      <td>exposed</td>\n",
       "      <td>2020-07-07</td>\n",
       "      <td>10</td>\n",
       "      <td>Generic Smartphone</td>\n",
       "      <td>6</td>\n",
       "      <td>Chrome Mobile</td>\n",
       "      <td>0</td>\n",
       "      <td>0</td>\n",
       "    </tr>\n",
       "    <tr>\n",
       "      <th>2</th>\n",
       "      <td>0016d14a-ae18-4a02-a204-6ba53b52f2ed</td>\n",
       "      <td>exposed</td>\n",
       "      <td>2020-07-05</td>\n",
       "      <td>2</td>\n",
       "      <td>E5823</td>\n",
       "      <td>6</td>\n",
       "      <td>Chrome Mobile WebView</td>\n",
       "      <td>0</td>\n",
       "      <td>1</td>\n",
       "    </tr>\n",
       "    <tr>\n",
       "      <th>3</th>\n",
       "      <td>00187412-2932-4542-a8ef-3633901c98d9</td>\n",
       "      <td>control</td>\n",
       "      <td>2020-07-03</td>\n",
       "      <td>15</td>\n",
       "      <td>Samsung SM-A705FN</td>\n",
       "      <td>6</td>\n",
       "      <td>Facebook</td>\n",
       "      <td>0</td>\n",
       "      <td>0</td>\n",
       "    </tr>\n",
       "    <tr>\n",
       "      <th>4</th>\n",
       "      <td>001a7785-d3fe-4e11-a344-c8735acacc2c</td>\n",
       "      <td>control</td>\n",
       "      <td>2020-07-03</td>\n",
       "      <td>15</td>\n",
       "      <td>Generic Smartphone</td>\n",
       "      <td>6</td>\n",
       "      <td>Chrome Mobile</td>\n",
       "      <td>0</td>\n",
       "      <td>0</td>\n",
       "    </tr>\n",
       "  </tbody>\n",
       "</table>\n",
       "</div>"
      ],
      "text/plain": [
       "                             auction_id experiment        date  hour  \\\n",
       "0  0008ef63-77a7-448b-bd1e-075f42c55e39    exposed  2020-07-10     8   \n",
       "1  000eabc5-17ce-4137-8efe-44734d914446    exposed  2020-07-07    10   \n",
       "2  0016d14a-ae18-4a02-a204-6ba53b52f2ed    exposed  2020-07-05     2   \n",
       "3  00187412-2932-4542-a8ef-3633901c98d9    control  2020-07-03    15   \n",
       "4  001a7785-d3fe-4e11-a344-c8735acacc2c    control  2020-07-03    15   \n",
       "\n",
       "          device_make  platform_os                browser  yes  no  \n",
       "0  Generic Smartphone            6          Chrome Mobile    0   0  \n",
       "1  Generic Smartphone            6          Chrome Mobile    0   0  \n",
       "2               E5823            6  Chrome Mobile WebView    0   1  \n",
       "3   Samsung SM-A705FN            6               Facebook    0   0  \n",
       "4  Generic Smartphone            6          Chrome Mobile    0   0  "
      ]
     },
     "execution_count": 3,
     "metadata": {},
     "output_type": "execute_result"
    }
   ],
   "source": [
    "df.head()"
   ]
  },
  {
   "cell_type": "code",
   "execution_count": 4,
   "id": "420b4fdd",
   "metadata": {},
   "outputs": [
    {
     "name": "stdout",
     "output_type": "stream",
     "text": [
      "<class 'pandas.core.frame.DataFrame'>\n",
      "RangeIndex: 8077 entries, 0 to 8076\n",
      "Data columns (total 9 columns):\n",
      " #   Column       Non-Null Count  Dtype \n",
      "---  ------       --------------  ----- \n",
      " 0   auction_id   8077 non-null   object\n",
      " 1   experiment   8077 non-null   object\n",
      " 2   date         8077 non-null   object\n",
      " 3   hour         8077 non-null   int64 \n",
      " 4   device_make  8077 non-null   object\n",
      " 5   platform_os  8077 non-null   int64 \n",
      " 6   browser      8077 non-null   object\n",
      " 7   yes          8077 non-null   int64 \n",
      " 8   no           8077 non-null   int64 \n",
      "dtypes: int64(4), object(5)\n",
      "memory usage: 568.0+ KB\n"
     ]
    }
   ],
   "source": [
    "df.info()"
   ]
  },
  {
   "cell_type": "code",
   "execution_count": 5,
   "id": "c117d3b9",
   "metadata": {},
   "outputs": [
    {
     "data": {
      "text/html": [
       "<div>\n",
       "<style scoped>\n",
       "    .dataframe tbody tr th:only-of-type {\n",
       "        vertical-align: middle;\n",
       "    }\n",
       "\n",
       "    .dataframe tbody tr th {\n",
       "        vertical-align: top;\n",
       "    }\n",
       "\n",
       "    .dataframe thead th {\n",
       "        text-align: right;\n",
       "    }\n",
       "</style>\n",
       "<table border=\"1\" class=\"dataframe\">\n",
       "  <thead>\n",
       "    <tr style=\"text-align: right;\">\n",
       "      <th></th>\n",
       "      <th>auction_id</th>\n",
       "      <th>experiment</th>\n",
       "      <th>date</th>\n",
       "      <th>hour</th>\n",
       "      <th>device_make</th>\n",
       "      <th>platform_os</th>\n",
       "      <th>browser</th>\n",
       "      <th>yes</th>\n",
       "      <th>no</th>\n",
       "    </tr>\n",
       "  </thead>\n",
       "  <tbody>\n",
       "    <tr>\n",
       "      <th>count</th>\n",
       "      <td>8077</td>\n",
       "      <td>8077</td>\n",
       "      <td>8077</td>\n",
       "      <td>8077.000000</td>\n",
       "      <td>8077</td>\n",
       "      <td>8077.000000</td>\n",
       "      <td>8077</td>\n",
       "      <td>8077.000000</td>\n",
       "      <td>8077.000000</td>\n",
       "    </tr>\n",
       "    <tr>\n",
       "      <th>unique</th>\n",
       "      <td>8077</td>\n",
       "      <td>2</td>\n",
       "      <td>8</td>\n",
       "      <td>NaN</td>\n",
       "      <td>269</td>\n",
       "      <td>NaN</td>\n",
       "      <td>15</td>\n",
       "      <td>NaN</td>\n",
       "      <td>NaN</td>\n",
       "    </tr>\n",
       "    <tr>\n",
       "      <th>top</th>\n",
       "      <td>0008ef63-77a7-448b-bd1e-075f42c55e39</td>\n",
       "      <td>control</td>\n",
       "      <td>2020-07-03</td>\n",
       "      <td>NaN</td>\n",
       "      <td>Generic Smartphone</td>\n",
       "      <td>NaN</td>\n",
       "      <td>Chrome Mobile</td>\n",
       "      <td>NaN</td>\n",
       "      <td>NaN</td>\n",
       "    </tr>\n",
       "    <tr>\n",
       "      <th>freq</th>\n",
       "      <td>1</td>\n",
       "      <td>4071</td>\n",
       "      <td>2015</td>\n",
       "      <td>NaN</td>\n",
       "      <td>4743</td>\n",
       "      <td>NaN</td>\n",
       "      <td>4554</td>\n",
       "      <td>NaN</td>\n",
       "      <td>NaN</td>\n",
       "    </tr>\n",
       "    <tr>\n",
       "      <th>mean</th>\n",
       "      <td>NaN</td>\n",
       "      <td>NaN</td>\n",
       "      <td>NaN</td>\n",
       "      <td>11.615080</td>\n",
       "      <td>NaN</td>\n",
       "      <td>5.947134</td>\n",
       "      <td>NaN</td>\n",
       "      <td>0.070818</td>\n",
       "      <td>0.083075</td>\n",
       "    </tr>\n",
       "    <tr>\n",
       "      <th>std</th>\n",
       "      <td>NaN</td>\n",
       "      <td>NaN</td>\n",
       "      <td>NaN</td>\n",
       "      <td>5.734879</td>\n",
       "      <td>NaN</td>\n",
       "      <td>0.224333</td>\n",
       "      <td>NaN</td>\n",
       "      <td>0.256537</td>\n",
       "      <td>0.276013</td>\n",
       "    </tr>\n",
       "    <tr>\n",
       "      <th>min</th>\n",
       "      <td>NaN</td>\n",
       "      <td>NaN</td>\n",
       "      <td>NaN</td>\n",
       "      <td>0.000000</td>\n",
       "      <td>NaN</td>\n",
       "      <td>5.000000</td>\n",
       "      <td>NaN</td>\n",
       "      <td>0.000000</td>\n",
       "      <td>0.000000</td>\n",
       "    </tr>\n",
       "    <tr>\n",
       "      <th>25%</th>\n",
       "      <td>NaN</td>\n",
       "      <td>NaN</td>\n",
       "      <td>NaN</td>\n",
       "      <td>7.000000</td>\n",
       "      <td>NaN</td>\n",
       "      <td>6.000000</td>\n",
       "      <td>NaN</td>\n",
       "      <td>0.000000</td>\n",
       "      <td>0.000000</td>\n",
       "    </tr>\n",
       "    <tr>\n",
       "      <th>50%</th>\n",
       "      <td>NaN</td>\n",
       "      <td>NaN</td>\n",
       "      <td>NaN</td>\n",
       "      <td>13.000000</td>\n",
       "      <td>NaN</td>\n",
       "      <td>6.000000</td>\n",
       "      <td>NaN</td>\n",
       "      <td>0.000000</td>\n",
       "      <td>0.000000</td>\n",
       "    </tr>\n",
       "    <tr>\n",
       "      <th>75%</th>\n",
       "      <td>NaN</td>\n",
       "      <td>NaN</td>\n",
       "      <td>NaN</td>\n",
       "      <td>15.000000</td>\n",
       "      <td>NaN</td>\n",
       "      <td>6.000000</td>\n",
       "      <td>NaN</td>\n",
       "      <td>0.000000</td>\n",
       "      <td>0.000000</td>\n",
       "    </tr>\n",
       "    <tr>\n",
       "      <th>max</th>\n",
       "      <td>NaN</td>\n",
       "      <td>NaN</td>\n",
       "      <td>NaN</td>\n",
       "      <td>23.000000</td>\n",
       "      <td>NaN</td>\n",
       "      <td>7.000000</td>\n",
       "      <td>NaN</td>\n",
       "      <td>1.000000</td>\n",
       "      <td>1.000000</td>\n",
       "    </tr>\n",
       "  </tbody>\n",
       "</table>\n",
       "</div>"
      ],
      "text/plain": [
       "                                  auction_id experiment        date  \\\n",
       "count                                   8077       8077        8077   \n",
       "unique                                  8077          2           8   \n",
       "top     0008ef63-77a7-448b-bd1e-075f42c55e39    control  2020-07-03   \n",
       "freq                                       1       4071        2015   \n",
       "mean                                     NaN        NaN         NaN   \n",
       "std                                      NaN        NaN         NaN   \n",
       "min                                      NaN        NaN         NaN   \n",
       "25%                                      NaN        NaN         NaN   \n",
       "50%                                      NaN        NaN         NaN   \n",
       "75%                                      NaN        NaN         NaN   \n",
       "max                                      NaN        NaN         NaN   \n",
       "\n",
       "               hour         device_make  platform_os        browser  \\\n",
       "count   8077.000000                8077  8077.000000           8077   \n",
       "unique          NaN                 269          NaN             15   \n",
       "top             NaN  Generic Smartphone          NaN  Chrome Mobile   \n",
       "freq            NaN                4743          NaN           4554   \n",
       "mean      11.615080                 NaN     5.947134            NaN   \n",
       "std        5.734879                 NaN     0.224333            NaN   \n",
       "min        0.000000                 NaN     5.000000            NaN   \n",
       "25%        7.000000                 NaN     6.000000            NaN   \n",
       "50%       13.000000                 NaN     6.000000            NaN   \n",
       "75%       15.000000                 NaN     6.000000            NaN   \n",
       "max       23.000000                 NaN     7.000000            NaN   \n",
       "\n",
       "                yes           no  \n",
       "count   8077.000000  8077.000000  \n",
       "unique          NaN          NaN  \n",
       "top             NaN          NaN  \n",
       "freq            NaN          NaN  \n",
       "mean       0.070818     0.083075  \n",
       "std        0.256537     0.276013  \n",
       "min        0.000000     0.000000  \n",
       "25%        0.000000     0.000000  \n",
       "50%        0.000000     0.000000  \n",
       "75%        0.000000     0.000000  \n",
       "max        1.000000     1.000000  "
      ]
     },
     "execution_count": 5,
     "metadata": {},
     "output_type": "execute_result"
    }
   ],
   "source": [
    "df.describe(include='all')"
   ]
  },
  {
   "cell_type": "markdown",
   "id": "f634835f",
   "metadata": {},
   "source": [
    "# Data Cleaning"
   ]
  },
  {
   "cell_type": "markdown",
   "id": "dec9643d",
   "metadata": {},
   "source": [
    "**missing values**\n",
    "<br>Handle missing values with either dropping the rows with missing values or fill in the missing values with appropriate values."
   ]
  },
  {
   "cell_type": "code",
   "execution_count": 6,
   "id": "63c6e141",
   "metadata": {},
   "outputs": [
    {
     "data": {
      "text/plain": [
       "auction_id     0\n",
       "experiment     0\n",
       "date           0\n",
       "hour           0\n",
       "device_make    0\n",
       "platform_os    0\n",
       "browser        0\n",
       "yes            0\n",
       "no             0\n",
       "dtype: int64"
      ]
     },
     "execution_count": 6,
     "metadata": {},
     "output_type": "execute_result"
    }
   ],
   "source": [
    "df.isnull().sum()"
   ]
  },
  {
   "cell_type": "markdown",
   "id": "9b50f933",
   "metadata": {},
   "source": [
    "**duplicates**"
   ]
  },
  {
   "cell_type": "code",
   "execution_count": 7,
   "id": "ab38333e",
   "metadata": {},
   "outputs": [
    {
     "data": {
      "text/plain": [
       "0"
      ]
     },
     "execution_count": 7,
     "metadata": {},
     "output_type": "execute_result"
    }
   ],
   "source": [
    "df.duplicated().any().sum()"
   ]
  },
  {
   "cell_type": "markdown",
   "id": "f1f11001",
   "metadata": {},
   "source": [
    "**Drop unnecessary columns**"
   ]
  },
  {
   "cell_type": "code",
   "execution_count": 8,
   "id": "994662ae",
   "metadata": {},
   "outputs": [],
   "source": [
    "df.drop(columns='auction_id',inplace=True)"
   ]
  },
  {
   "cell_type": "code",
   "execution_count": 9,
   "id": "3f1db06e",
   "metadata": {},
   "outputs": [
    {
     "data": {
      "text/plain": [
       "Index(['experiment', 'date', 'hour', 'device_make', 'platform_os', 'browser',\n",
       "       'yes', 'no'],\n",
       "      dtype='object')"
      ]
     },
     "execution_count": 9,
     "metadata": {},
     "output_type": "execute_result"
    }
   ],
   "source": [
    "df.columns"
   ]
  },
  {
   "cell_type": "markdown",
   "id": "96871051",
   "metadata": {},
   "source": [
    "**Choose an appropriate index if necessary**"
   ]
  },
  {
   "cell_type": "code",
   "execution_count": 10,
   "id": "8d9cc4b5",
   "metadata": {},
   "outputs": [],
   "source": [
    "df.set_index('date',drop=True,inplace=True)"
   ]
  },
  {
   "cell_type": "code",
   "execution_count": 11,
   "id": "6d9976a9",
   "metadata": {},
   "outputs": [
    {
     "data": {
      "text/html": [
       "<div>\n",
       "<style scoped>\n",
       "    .dataframe tbody tr th:only-of-type {\n",
       "        vertical-align: middle;\n",
       "    }\n",
       "\n",
       "    .dataframe tbody tr th {\n",
       "        vertical-align: top;\n",
       "    }\n",
       "\n",
       "    .dataframe thead th {\n",
       "        text-align: right;\n",
       "    }\n",
       "</style>\n",
       "<table border=\"1\" class=\"dataframe\">\n",
       "  <thead>\n",
       "    <tr style=\"text-align: right;\">\n",
       "      <th></th>\n",
       "      <th>experiment</th>\n",
       "      <th>hour</th>\n",
       "      <th>device_make</th>\n",
       "      <th>platform_os</th>\n",
       "      <th>browser</th>\n",
       "      <th>yes</th>\n",
       "      <th>no</th>\n",
       "    </tr>\n",
       "    <tr>\n",
       "      <th>date</th>\n",
       "      <th></th>\n",
       "      <th></th>\n",
       "      <th></th>\n",
       "      <th></th>\n",
       "      <th></th>\n",
       "      <th></th>\n",
       "      <th></th>\n",
       "    </tr>\n",
       "  </thead>\n",
       "  <tbody>\n",
       "    <tr>\n",
       "      <th>2020-07-10</th>\n",
       "      <td>exposed</td>\n",
       "      <td>8</td>\n",
       "      <td>Generic Smartphone</td>\n",
       "      <td>6</td>\n",
       "      <td>Chrome Mobile</td>\n",
       "      <td>0</td>\n",
       "      <td>0</td>\n",
       "    </tr>\n",
       "    <tr>\n",
       "      <th>2020-07-07</th>\n",
       "      <td>exposed</td>\n",
       "      <td>10</td>\n",
       "      <td>Generic Smartphone</td>\n",
       "      <td>6</td>\n",
       "      <td>Chrome Mobile</td>\n",
       "      <td>0</td>\n",
       "      <td>0</td>\n",
       "    </tr>\n",
       "    <tr>\n",
       "      <th>2020-07-05</th>\n",
       "      <td>exposed</td>\n",
       "      <td>2</td>\n",
       "      <td>E5823</td>\n",
       "      <td>6</td>\n",
       "      <td>Chrome Mobile WebView</td>\n",
       "      <td>0</td>\n",
       "      <td>1</td>\n",
       "    </tr>\n",
       "    <tr>\n",
       "      <th>2020-07-03</th>\n",
       "      <td>control</td>\n",
       "      <td>15</td>\n",
       "      <td>Samsung SM-A705FN</td>\n",
       "      <td>6</td>\n",
       "      <td>Facebook</td>\n",
       "      <td>0</td>\n",
       "      <td>0</td>\n",
       "    </tr>\n",
       "    <tr>\n",
       "      <th>2020-07-03</th>\n",
       "      <td>control</td>\n",
       "      <td>15</td>\n",
       "      <td>Generic Smartphone</td>\n",
       "      <td>6</td>\n",
       "      <td>Chrome Mobile</td>\n",
       "      <td>0</td>\n",
       "      <td>0</td>\n",
       "    </tr>\n",
       "  </tbody>\n",
       "</table>\n",
       "</div>"
      ],
      "text/plain": [
       "           experiment  hour         device_make  platform_os  \\\n",
       "date                                                           \n",
       "2020-07-10    exposed     8  Generic Smartphone            6   \n",
       "2020-07-07    exposed    10  Generic Smartphone            6   \n",
       "2020-07-05    exposed     2               E5823            6   \n",
       "2020-07-03    control    15   Samsung SM-A705FN            6   \n",
       "2020-07-03    control    15  Generic Smartphone            6   \n",
       "\n",
       "                          browser  yes  no  \n",
       "date                                        \n",
       "2020-07-10          Chrome Mobile    0   0  \n",
       "2020-07-07          Chrome Mobile    0   0  \n",
       "2020-07-05  Chrome Mobile WebView    0   1  \n",
       "2020-07-03               Facebook    0   0  \n",
       "2020-07-03          Chrome Mobile    0   0  "
      ]
     },
     "execution_count": 11,
     "metadata": {},
     "output_type": "execute_result"
    }
   ],
   "source": [
    "df.head()"
   ]
  },
  {
   "cell_type": "markdown",
   "id": "0c6e72fe",
   "metadata": {},
   "source": [
    "# A/B test modeling\n",
    "<br>Steps for analyzing A/B test results:\n",
    "\n",
    "    * Choosing an appropriate statistical test\n",
    "    * Calculating the test statistics (T)\n",
    "    * Calculating the p-value of the test statistics\n",
    "    * Reject or fail to reject the statistical hypothesis (statistical significance)\n",
    "    * Calculate the margin of error (external validity of the experiment)\n",
    "    * Calculate confidence interval (external validity and practical significance of the experiment)"
   ]
  },
  {
   "cell_type": "code",
   "execution_count": 12,
   "id": "92dfcf17",
   "metadata": {},
   "outputs": [],
   "source": [
    "df['response'] = np.where((df['yes']==1)| (df['no']==1), 1, 0)"
   ]
  },
  {
   "cell_type": "code",
   "execution_count": 13,
   "id": "85062710",
   "metadata": {},
   "outputs": [
    {
     "data": {
      "text/html": [
       "<div>\n",
       "<style scoped>\n",
       "    .dataframe tbody tr th:only-of-type {\n",
       "        vertical-align: middle;\n",
       "    }\n",
       "\n",
       "    .dataframe tbody tr th {\n",
       "        vertical-align: top;\n",
       "    }\n",
       "\n",
       "    .dataframe thead th {\n",
       "        text-align: right;\n",
       "    }\n",
       "</style>\n",
       "<table border=\"1\" class=\"dataframe\">\n",
       "  <thead>\n",
       "    <tr style=\"text-align: right;\">\n",
       "      <th></th>\n",
       "      <th>experiment</th>\n",
       "      <th>hour</th>\n",
       "      <th>device_make</th>\n",
       "      <th>platform_os</th>\n",
       "      <th>browser</th>\n",
       "      <th>yes</th>\n",
       "      <th>no</th>\n",
       "      <th>response</th>\n",
       "    </tr>\n",
       "    <tr>\n",
       "      <th>date</th>\n",
       "      <th></th>\n",
       "      <th></th>\n",
       "      <th></th>\n",
       "      <th></th>\n",
       "      <th></th>\n",
       "      <th></th>\n",
       "      <th></th>\n",
       "      <th></th>\n",
       "    </tr>\n",
       "  </thead>\n",
       "  <tbody>\n",
       "    <tr>\n",
       "      <th>2020-07-10</th>\n",
       "      <td>exposed</td>\n",
       "      <td>8</td>\n",
       "      <td>Generic Smartphone</td>\n",
       "      <td>6</td>\n",
       "      <td>Chrome Mobile</td>\n",
       "      <td>0</td>\n",
       "      <td>0</td>\n",
       "      <td>0</td>\n",
       "    </tr>\n",
       "    <tr>\n",
       "      <th>2020-07-07</th>\n",
       "      <td>exposed</td>\n",
       "      <td>10</td>\n",
       "      <td>Generic Smartphone</td>\n",
       "      <td>6</td>\n",
       "      <td>Chrome Mobile</td>\n",
       "      <td>0</td>\n",
       "      <td>0</td>\n",
       "      <td>0</td>\n",
       "    </tr>\n",
       "    <tr>\n",
       "      <th>2020-07-05</th>\n",
       "      <td>exposed</td>\n",
       "      <td>2</td>\n",
       "      <td>E5823</td>\n",
       "      <td>6</td>\n",
       "      <td>Chrome Mobile WebView</td>\n",
       "      <td>0</td>\n",
       "      <td>1</td>\n",
       "      <td>1</td>\n",
       "    </tr>\n",
       "    <tr>\n",
       "      <th>2020-07-03</th>\n",
       "      <td>control</td>\n",
       "      <td>15</td>\n",
       "      <td>Samsung SM-A705FN</td>\n",
       "      <td>6</td>\n",
       "      <td>Facebook</td>\n",
       "      <td>0</td>\n",
       "      <td>0</td>\n",
       "      <td>0</td>\n",
       "    </tr>\n",
       "    <tr>\n",
       "      <th>2020-07-03</th>\n",
       "      <td>control</td>\n",
       "      <td>15</td>\n",
       "      <td>Generic Smartphone</td>\n",
       "      <td>6</td>\n",
       "      <td>Chrome Mobile</td>\n",
       "      <td>0</td>\n",
       "      <td>0</td>\n",
       "      <td>0</td>\n",
       "    </tr>\n",
       "  </tbody>\n",
       "</table>\n",
       "</div>"
      ],
      "text/plain": [
       "           experiment  hour         device_make  platform_os  \\\n",
       "date                                                           \n",
       "2020-07-10    exposed     8  Generic Smartphone            6   \n",
       "2020-07-07    exposed    10  Generic Smartphone            6   \n",
       "2020-07-05    exposed     2               E5823            6   \n",
       "2020-07-03    control    15   Samsung SM-A705FN            6   \n",
       "2020-07-03    control    15  Generic Smartphone            6   \n",
       "\n",
       "                          browser  yes  no  response  \n",
       "date                                                  \n",
       "2020-07-10          Chrome Mobile    0   0         0  \n",
       "2020-07-07          Chrome Mobile    0   0         0  \n",
       "2020-07-05  Chrome Mobile WebView    0   1         1  \n",
       "2020-07-03               Facebook    0   0         0  \n",
       "2020-07-03          Chrome Mobile    0   0         0  "
      ]
     },
     "execution_count": 13,
     "metadata": {},
     "output_type": "execute_result"
    }
   ],
   "source": [
    "df.head()"
   ]
  },
  {
   "cell_type": "markdown",
   "id": "129b49de",
   "metadata": {},
   "source": [
    "**Check the number of samples in control and treatment group**"
   ]
  },
  {
   "cell_type": "code",
   "execution_count": 14,
   "id": "5d4f985b",
   "metadata": {},
   "outputs": [
    {
     "data": {
      "text/plain": [
       "control    4071\n",
       "exposed    4006\n",
       "Name: experiment, dtype: int64"
      ]
     },
     "execution_count": 14,
     "metadata": {},
     "output_type": "execute_result"
    }
   ],
   "source": [
    "df['experiment'].value_counts()"
   ]
  },
  {
   "cell_type": "markdown",
   "id": "7249ed12",
   "metadata": {},
   "source": [
    "  **Create contingency table** "
   ]
  },
  {
   "cell_type": "code",
   "execution_count": 15,
   "id": "c756d1ce",
   "metadata": {},
   "outputs": [],
   "source": [
    "# Contingency Table\n",
    "d = pd.pivot_table(columns ='experiment',  values = ['yes', 'no'], aggfunc=np.sum, data=df)"
   ]
  },
  {
   "cell_type": "code",
   "execution_count": 16,
   "id": "4f1e71fa",
   "metadata": {},
   "outputs": [
    {
     "data": {
      "text/html": [
       "<div>\n",
       "<style scoped>\n",
       "    .dataframe tbody tr th:only-of-type {\n",
       "        vertical-align: middle;\n",
       "    }\n",
       "\n",
       "    .dataframe tbody tr th {\n",
       "        vertical-align: top;\n",
       "    }\n",
       "\n",
       "    .dataframe thead th {\n",
       "        text-align: right;\n",
       "    }\n",
       "</style>\n",
       "<table border=\"1\" class=\"dataframe\">\n",
       "  <thead>\n",
       "    <tr style=\"text-align: right;\">\n",
       "      <th>experiment</th>\n",
       "      <th>control</th>\n",
       "      <th>exposed</th>\n",
       "    </tr>\n",
       "  </thead>\n",
       "  <tbody>\n",
       "    <tr>\n",
       "      <th>no</th>\n",
       "      <td>322</td>\n",
       "      <td>349</td>\n",
       "    </tr>\n",
       "    <tr>\n",
       "      <th>yes</th>\n",
       "      <td>264</td>\n",
       "      <td>308</td>\n",
       "    </tr>\n",
       "  </tbody>\n",
       "</table>\n",
       "</div>"
      ],
      "text/plain": [
       "experiment  control  exposed\n",
       "no              322      349\n",
       "yes             264      308"
      ]
     },
     "execution_count": 16,
     "metadata": {},
     "output_type": "execute_result"
    }
   ],
   "source": [
    "d"
   ]
  },
  {
   "cell_type": "markdown",
   "id": "bbd9d58a",
   "metadata": {},
   "source": [
    "**Formulating a hypothesis**\n",
    "\n",
    "Given we don’t know if the new design for the BIO questionnaire will perform better or worse (or the same?) as our current design, we’ll choose a two-tailed test:\n",
    "Null Hypothesis⟹Ho: Conversion rate of control group (CG)=Conversion rate of treatment or exposed group (EG)\n",
    "\n",
    "Alternative Hypothesis⟹H1: Conversion rate of control group (CG)≠Conversion rate of treatment or exposed group (EG)\n",
    "\n",
    "We’ll also set a confidence level of 95%:\n",
    "\n",
    "α = 0.05\n",
    "\n",
    "The α value is a threshold we set, by which we say “if the probability of observing a result as extreme or more (p-value) is lower than α, then we reject the Null hypothesis”. Since our α=0.05 (indicating 5% probability), our confidence (1 — α) is 95%.\n",
    "\n",
    "Whatever conversion rate we observe for our new design in our test, we want to be 95% confident it is statistically different from the conversion rate of our old design, before we decide to reject the Null hypothesis Hₒ."
   ]
  },
  {
   "cell_type": "code",
   "execution_count": 17,
   "id": "4f0bae78",
   "metadata": {},
   "outputs": [],
   "source": [
    "# Null hypothesis -> Ho : CR_CG = CR_EG\n",
    "# Alternative hypothesis -> H1 : CR_CG ≠ CR_EG"
   ]
  },
  {
   "cell_type": "markdown",
   "id": "b93b908a",
   "metadata": {},
   "source": [
    "After formulating the hypothesis and performing the experiment we collected the following data in the contingency table. **Calculate the conversion rate of control group and exposed group**"
   ]
  },
  {
   "cell_type": "code",
   "execution_count": 18,
   "id": "bf0374e3",
   "metadata": {},
   "outputs": [],
   "source": [
    "# # The conversion rate of CG and EG\n",
    "# CG=264/(264+322)\n",
    "# EG=308/(308+349)\n",
    "# print(CG,EG)\n",
    "# EG-CG"
   ]
  },
  {
   "cell_type": "markdown",
   "id": "5c2637d8",
   "metadata": {},
   "source": [
    "# proportion difference"
   ]
  },
  {
   "cell_type": "code",
   "execution_count": 19,
   "id": "a03e8fba",
   "metadata": {},
   "outputs": [],
   "source": [
    "X_con = 264 #no of responses in control group \n",
    "N_con = 322 + 264 #no of total observations in control group\n",
    "X_exp = 308 #no of responses in treatment group \n",
    "N_exp = 349 + 308 #no of total observations in treatment group\n",
    "\n",
    "# ratio of responses in control group\n",
    "p_con = X_con / N_con\n",
    "\n",
    "# ratio of responses in treatment group\n",
    "p_exp = X_exp / N_exp"
   ]
  },
  {
   "cell_type": "code",
   "execution_count": 20,
   "id": "1869ed58",
   "metadata": {},
   "outputs": [
    {
     "data": {
      "text/plain": [
       "0.018"
      ]
     },
     "execution_count": 20,
     "metadata": {},
     "output_type": "execute_result"
    }
   ],
   "source": [
    "# proportion difference\n",
    "proportion_difference = abs(p_con - p_exp)\n",
    "proportion_difference = round(proportion_difference, 3)\n",
    "proportion_difference"
   ]
  },
  {
   "cell_type": "markdown",
   "id": "f67c4306",
   "metadata": {},
   "source": [
    "The conversion rate of the treatment group's value is higher than the control group. Is this difference statistically significant?"
   ]
  },
  {
   "cell_type": "markdown",
   "id": "4a6fff96",
   "metadata": {},
   "source": [
    "# 95% Confidence interval\n",
    "\n",
    "proportion_difference ± 2 × SE(proportion_difference)"
   ]
  },
  {
   "cell_type": "code",
   "execution_count": 21,
   "id": "951a5c0b",
   "metadata": {},
   "outputs": [
    {
     "name": "stdout",
     "output_type": "stream",
     "text": [
      "Standard error =  0.0283\n"
     ]
    }
   ],
   "source": [
    "p_pooled = (X_con + X_exp)/(N_con + N_exp)\n",
    "pooled_variance = p_pooled*(1-p_pooled) * (1/N_con + 1/N_exp)\n",
    "\n",
    "# Standard Error\n",
    "SE = np.sqrt(pooled_variance)\n",
    "\n",
    "print(f'Standard error = {SE: .4f}')"
   ]
  },
  {
   "cell_type": "code",
   "execution_count": 22,
   "id": "bb3e983a",
   "metadata": {},
   "outputs": [
    {
     "name": "stdout",
     "output_type": "stream",
     "text": [
      "[-0.0738  0.0372]\n"
     ]
    }
   ],
   "source": [
    "# Significance Level\n",
    "alpha = 0.05\n",
    "\n",
    "# critical value usig the standard normal distribution\n",
    "# takes a percentage and returns a standard deviation multiplier for what value that percentage occurs at.\n",
    "Z_crit = norm.ppf(1-alpha/2)\n",
    "\n",
    "# Confidence Interval\n",
    "CI = [(p_con-p_exp) - SE * Z_crit, (p_con-p_exp) + SE * Z_crit]\n",
    "\n",
    "print(np.round(CI,4))"
   ]
  },
  {
   "cell_type": "markdown",
   "id": "09dfee42",
   "metadata": {},
   "source": [
    "Confidence interval contains 0 which means there is a good chance that there is no difference between proportions."
   ]
  },
  {
   "cell_type": "markdown",
   "id": "4744e034",
   "metadata": {},
   "source": [
    "**Testing the hypothesis**"
   ]
  },
  {
   "cell_type": "markdown",
   "id": "2db15787",
   "metadata": {},
   "source": [
    "Using statistical significance tests we can measure if the collected data shows a result more extreme than the chance might produce. If the result is beyond the chance variation, then it is statistically significant. In this example, we have categorical variables in the contingency data format, which follow a Bernoulli distribution. Bernoulli Distribution has a probability of being 1 and a probability of being 0. In our example, it is conversion=1 and no conversion=0. Considering we are using the conversions as the metric, which is a categorical variable following Bernoulli distribution, we will be using the Chi-Squared test to interpret the results.\n",
    "\n",
    "The Chi-Squared test assumes observed frequencies for a categorical variable match with the expected frequencies. It calculates a test statistic (Chi) that has a chi-squared distribution and is interpreted to reject or fail to reject the null hypothesis if the expected and observed frequencies are the same. In this article, we will be using scipy.stats package for the statistical functions.\n",
    "The probability density function of Chi-Squared distribution varies with the degrees of freedom (df) which depends on the size of the contingency table, and calculated as df=(#rows-1)*(#columns-1) In this example df=1.\n",
    "\n",
    "Key terms we need to know to interpret the test result using Python are p-value and alpha. P-value is the probability of obtaining test results at least as extreme as the results actually observed, under the assumption that the null hypothesis is correct. P-value is is one of the outcomes of the test. Alpha also known as the level of statistical significance is the probability of making type I error (rejecting the null hypothesis when it is actually true). The probability of making a type II error (failing to reject the null hypothesis when it is actually false) is called beta, but it is out of scope for this article. In general, alpha is taken as 0.05 indicating 5% risk of concluding a difference exists between the groups when there is no actual difference.\n",
    "\n",
    "In terms of a p-value and a chosen significance level (alpha), the test can be interpreted as follows:\n",
    "\n",
    "If p-value <= alpha: significant result, reject null hypothesis\n",
    "If p-value > alpha: not significant result, do not reject null hypothesis\n",
    "We can also interpret the test result by using the test statistic and the critical value:\n",
    "\n",
    "If test statistic >= critical value: significant result, reject null hypothesis\n",
    "If test statistic < critical value: not significant result, do not to reject null hypothesis"
   ]
  },
  {
   "cell_type": "markdown",
   "id": "dfbc63a0",
   "metadata": {},
   "source": [
    "# Two sample Z test of proportions (for n>30)"
   ]
  },
  {
   "cell_type": "code",
   "execution_count": 23,
   "id": "5893fbb1",
   "metadata": {},
   "outputs": [
    {
     "name": "stdout",
     "output_type": "stream",
     "text": [
      "failed to reject null hypothesis\n",
      " Test Statistics stat = -0.646,\n",
      "Z-critical =  1.960,\n",
      "P_value =  1.482,\n",
      "Confidence Interval of 2 sample Z-test for proportions = [-0.0738  0.0372]\n"
     ]
    }
   ],
   "source": [
    "# test statsitics\n",
    "Test_stat = (p_con - p_exp)/SE\n",
    "\n",
    "\n",
    "# two sided test \n",
    "p_value = norm.sf(-abs(Test_stat))*2\n",
    "\n",
    "\n",
    "if np.abs(Test_stat) >= Z_crit:\n",
    "    print(\"reject the null\")\n",
    "    print(round(p_value,4))\n",
    "else:\n",
    "  print('failed to reject null hypothesis')    \n",
    "\n",
    "print(f\"\"\" Test Statistics stat = {Test_stat: .3f},\n",
    "Z-critical = {Z_crit: .3f},\n",
    "P_value = {p_value: .3f},\n",
    "Confidence Interval of 2 sample Z-test for proportions = {np.round(CI,4)}\"\"\")"
   ]
  },
  {
   "cell_type": "code",
   "execution_count": 24,
   "id": "58635a99",
   "metadata": {},
   "outputs": [
    {
     "data": {
      "image/png": "[encoded data removed]",
      "text/plain": [
       "<Figure size 640x480 with 1 Axes>"
      ]
     },
     "metadata": {},
     "output_type": "display_data"
    }
   ],
   "source": [
    "import matplotlib.pyplot as plt\n",
    "z = np.arange(-3,3,  0.1)\n",
    "plt.plot(z, norm.pdf(z), label = 'Standard Normal Distribution',color = 'purple',linewidth = 2.5)\n",
    "plt.plot(Test_stat, 0, '*',color = 'red',linewidth = 2.5)\n",
    "plt.fill_between(z[z>Z_crit], norm.pdf(z[z>Z_crit]), label = 'Right Rejection Region',color ='y' )\n",
    "plt.fill_between(z[z<(-1)*Z_crit], norm.pdf(z[z<(-1)*Z_crit]), label = 'Left Rejection Region',color ='y' )\n",
    "plt.title(\"Two Sample Z-test\")\n",
    "plt.legend(loc=(1,0))\n",
    "plt.show()"
   ]
  },
  {
   "cell_type": "markdown",
   "id": "6ff65d2f",
   "metadata": {},
   "source": [
    "# Chi Square Test"
   ]
  },
  {
   "cell_type": "code",
   "execution_count": 25,
   "id": "9ef00f66",
   "metadata": {},
   "outputs": [
    {
     "name": "stdout",
     "output_type": "stream",
     "text": [
      "failed to reject null hypothesis\n",
      "test statistic = 0.347\n"
     ]
    }
   ],
   "source": [
    "from scipy.stats import chi2_contingency\n",
    "\n",
    "# Create the contingency table as a 2D numpy array\n",
    "data = [[264, 308], [322, 349]]\n",
    "\n",
    "\n",
    "X2, pval, dof, expected_freq = chi2_contingency(data)\n",
    "\n",
    "\n",
    "if pval < 0.05:\n",
    "    print(\"reject the null\")\n",
    "    print(round(p_value,4))\n",
    "else:\n",
    "  print('failed to reject null hypothesis')\n",
    "\n",
    "\n",
    "print(f'test statistic = {round(X2,3)}')"
   ]
  },
  {
   "cell_type": "markdown",
   "id": "56759722",
   "metadata": {},
   "source": [
    "# Fisher test"
   ]
  },
  {
   "cell_type": "code",
   "execution_count": 26,
   "id": "f2c50950",
   "metadata": {},
   "outputs": [
    {
     "data": {
      "text/plain": [
       "experiment  yes\n",
       "control     0      322\n",
       "            1      264\n",
       "exposed     0      349\n",
       "            1      308\n",
       "Name: yes, dtype: int64"
      ]
     },
     "execution_count": 26,
     "metadata": {},
     "output_type": "execute_result"
    }
   ],
   "source": [
    "df[df['response']==1].groupby('experiment')['yes'].value_counts()"
   ]
  },
  {
   "cell_type": "code",
   "execution_count": 27,
   "id": "69565265",
   "metadata": {},
   "outputs": [
    {
     "name": "stdout",
     "output_type": "stream",
     "text": [
      "failed to reject null hypothesis\n",
      "p-value = 1.4815\n"
     ]
    }
   ],
   "source": [
    "from scipy.stats import fisher_exact\n",
    "  \n",
    "odd_ratio, pval = fisher_exact(data,)\n",
    "\n",
    "if pval < 0.05:\n",
    "    print(\"reject the null\")\n",
    "    print(round(p_value,4))\n",
    "else:\n",
    "  print('failed to reject null hypothesis')\n",
    "  print(f'p-value = {round(p_value,4)}')"
   ]
  },
  {
   "cell_type": "markdown",
   "id": "1295b711",
   "metadata": {},
   "source": [
    "Therefore, we conclude that there is not enough evidence to suggest that there is a significant association between proportion differences in control and exposed group."
   ]
  }
 ],
 "metadata": {
  "kernelspec": {
   "display_name": "Python 3 (ipykernel)",
   "language": "python",
   "name": "python3"
  },
  "language_info": {
   "codemirror_mode": {
    "name": "ipython",
    "version": 3
   },
   "file_extension": ".py",
   "mimetype": "text/x-python",
   "name": "python",
   "nbconvert_exporter": "python",
   "pygments_lexer": "ipython3",
   "version": "3.9.13"
  }
 },
 "nbformat": 4,
 "nbformat_minor": 5
}
